{
 "cells": [
  {
   "cell_type": "markdown",
   "id": "990a9499-78a5-40a0-b6a5-4fe3e925ce31",
   "metadata": {},
   "source": [
    "# Ficha 1 - NumPy array Indexing/Slicing\n",
    "\n",
    "### **Aluno:** Alexandre Areias Castro PG45962"
   ]
  },
  {
   "cell_type": "markdown",
   "id": "a420b8bd-0b57-4492-9126-dcbc3743246e",
   "metadata": {},
   "source": [
    "## Exercício 1"
   ]
  },
  {
   "cell_type": "markdown",
   "id": "8c7bc054-2713-450e-bb29-bed8e7380eeb",
   "metadata": {},
   "source": [
    "#### 1.1) Neste exercício, vamos usar o iris dataset. Carrega o iris.csv usando o método read apropriado para o tipo de ficheiro."
   ]
  },
  {
   "cell_type": "code",
   "execution_count": null,
   "id": "b5830284-f70c-414d-b048-a3520714b086",
   "metadata": {},
   "outputs": [],
   "source": []
  },
  {
   "cell_type": "markdown",
   "id": "7501e8ee-b7ca-432e-b39d-63b9cc73230d",
   "metadata": {},
   "source": [
    "#### 1.2) Seleciona a primeira variável independente e verifica a dimensão do array resultante."
   ]
  },
  {
   "cell_type": "code",
   "execution_count": null,
   "id": "4c4fabe7-ee2d-446b-9f0a-845ae1bc4740",
   "metadata": {},
   "outputs": [],
   "source": []
  },
  {
   "cell_type": "markdown",
   "id": "6f0d4cf1-79aa-4525-852e-d30f37ed7973",
   "metadata": {},
   "source": [
    "#### 1.3) Seleciona as últimas 5 amostras do iris dataset. Qual a média das últimas 5 amostras para cada variável independente/feature?"
   ]
  },
  {
   "cell_type": "code",
   "execution_count": null,
   "id": "28ace403-5c62-44d1-8d9f-efcb23745411",
   "metadata": {},
   "outputs": [],
   "source": []
  },
  {
   "cell_type": "markdown",
   "id": "d270476d-939f-4cbe-ba85-39e9ef308bd0",
   "metadata": {},
   "source": [
    "#### 1.4) Seleciona todas as amostras do dataset com valor superior ou igual a 1. Nota que o array resultante deve ter apenas amostras com valores iguais ou superiores a 1 para todas as features."
   ]
  },
  {
   "cell_type": "code",
   "execution_count": null,
   "id": "1a784fa3-383d-402b-8a26-d3e862b170be",
   "metadata": {},
   "outputs": [],
   "source": []
  },
  {
   "cell_type": "markdown",
   "id": "28adf9ed-be98-4729-9d62-c8a32a457644",
   "metadata": {},
   "source": [
    "#### 1.5) Seleciona todas as amostras com a classe/label igual a ‘Iris-setosa’. Quantas amostras obténs?"
   ]
  },
  {
   "cell_type": "code",
   "execution_count": null,
   "id": "6179a8ac-7911-4119-be01-97177242eda0",
   "metadata": {},
   "outputs": [],
   "source": []
  },
  {
   "cell_type": "markdown",
   "id": "f8fca489-55ba-487d-a11b-4087bf59175e",
   "metadata": {},
   "source": [
    "## Exercício 2"
   ]
  },
  {
   "cell_type": "markdown",
   "id": "f624f30f-f67c-4114-b9d5-8d6f4da7adb0",
   "metadata": {},
   "source": [
    "#### 2.1) Adiciona um método ao objeto Dataset que remove todas as amostras que contêm pelo menos um valor nulo (NaN). Nota que o objeto resultante não deve conter valores nulos em para nenhuma feature/variável independente. Nota também que deves atualizar o vetor y removendo as entradas associadas às amostras a remover. Deves usar apenas funções no NumPy.<br />            Nome do método: dropna"
   ]
  },
  {
   "cell_type": "code",
   "execution_count": null,
   "id": "5888cd1e-f82e-43dd-ba55-393bcd3dd531",
   "metadata": {},
   "outputs": [],
   "source": []
  },
  {
   "cell_type": "markdown",
   "id": "c5bc7f0e-9400-44cc-b773-2cef6f1978af",
   "metadata": {},
   "source": [
    "#### 2.2) Adiciona um método ao objeto Dataset que substitui todas os valores nulos por outro valor (argumento da função/método). Nota que o objeto resultante não deve conter valores nulos em para nenhuma feature/variável independente. Deves usar apenas funções no NumPy. <br />Nome do método: fillna"
   ]
  },
  {
   "cell_type": "code",
   "execution_count": null,
   "id": "1cf4e233-e9fc-4811-8907-47ccf8db98e2",
   "metadata": {},
   "outputs": [],
   "source": []
  }
 ],
 "metadata": {
  "kernelspec": {
   "display_name": "Python 3 (ipykernel)",
   "language": "python",
   "name": "python3"
  },
  "language_info": {
   "codemirror_mode": {
    "name": "ipython",
    "version": 3
   },
   "file_extension": ".py",
   "mimetype": "text/x-python",
   "name": "python",
   "nbconvert_exporter": "python",
   "pygments_lexer": "ipython3",
   "version": "3.10.6"
  }
 },
 "nbformat": 4,
 "nbformat_minor": 5
}
