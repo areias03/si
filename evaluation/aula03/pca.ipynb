{
 "cells": [
  {
   "cell_type": "markdown",
   "id": "26f5a87f-2c9e-4637-ac2c-135c93348b42",
   "metadata": {},
   "source": [
    "# Ficha 3 -  Implementar o PCA\n",
    "\n",
    "### **Aluno:** Alexandre Areias Castro PG45962"
   ]
  },
  {
   "cell_type": "markdown",
   "id": "685118b0-8455-4059-84be-d4dfbee1694f",
   "metadata": {},
   "source": [
    "## Exercício 3"
   ]
  },
  {
   "cell_type": "markdown",
   "id": "bda40431-c9b1-4fb2-8acc-5fffe82366ab",
   "metadata": {},
   "source": [
    "#### 3.1) Adiciona o objeto PCA ao sub-package decomposition. Deves criar um módulo chamado pca.py para implementar este objeto"
   ]
  },
  {
   "cell_type": "markdown",
   "id": "17974480-4954-4a89-800e-a79a96914a3c",
   "metadata": {},
   "source": [
    "#### 3.2) Considera a estrutura do objeto PCA apresentada no diapositivo seguinte."
   ]
  },
  {
   "cell_type": "markdown",
   "id": "1ee5230c-bb7f-4aed-a494-102b770c4cb2",
   "metadata": {},
   "source": [
    "#### 3.3) Podes testar o objeto PCA num jupyter notebook usando o dataset iris.csv (classificação)"
   ]
  },
  {
   "cell_type": "code",
   "execution_count": null,
   "id": "72f8f663-d50e-4325-8d2a-29d13f48f68c",
   "metadata": {},
   "outputs": [],
   "source": []
  }
 ],
 "metadata": {
  "kernelspec": {
   "display_name": "Python 3 (ipykernel)",
   "language": "python",
   "name": "python3"
  },
  "language_info": {
   "codemirror_mode": {
    "name": "ipython",
    "version": 3
   },
   "file_extension": ".py",
   "mimetype": "text/x-python",
   "name": "python",
   "nbconvert_exporter": "python",
   "pygments_lexer": "ipython3",
   "version": "3.10.6"
  }
 },
 "nbformat": 4,
 "nbformat_minor": 5
}
