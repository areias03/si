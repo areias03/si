{
 "cells": [
  {
   "cell_type": "markdown",
   "id": "2729ff69-8cf7-4cb5-9057-b5907f325bfc",
   "metadata": {
    "tags": []
   },
   "source": [
    "# Ficha 2 -  Implementar o SelectPercentile\n",
    "\n",
    "### **Aluno:** Alexandre Areias Castro PG45962"
   ]
  },
  {
   "cell_type": "markdown",
   "id": "41d2c561-8729-4292-87b1-a7c668e340c2",
   "metadata": {},
   "source": [
    "## Exercício 3"
   ]
  },
  {
   "cell_type": "markdown",
   "id": "846e4c49-4d3f-4563-a5d1-2b489005ba5b",
   "metadata": {},
   "source": [
    "#### 3.1) Adiciona o objeto SelectPercentile ao sub-package feature_selection. Deves criar um módulo chamado select_percentile.py para implementar este objeto"
   ]
  },
  {
   "cell_type": "markdown",
   "id": "a9f852a3-a11a-4ff6-a917-54fb3cdf5620",
   "metadata": {},
   "source": [
    "#### 3.2) A class SelectPercentile tem uma arquitetura semelhante à classe SelectKBest. Considera a estrutura apresentada no diapositivo seguinte."
   ]
  },
  {
   "cell_type": "markdown",
   "id": "92039d9b-e9cd-4b47-abcd-08889f9367e7",
   "metadata": {},
   "source": [
    "#### 3.3) Podes testar a class SelectPercentile num jupyter notebook usando o dataset iris.csv (classificação)"
   ]
  },
  {
   "cell_type": "code",
   "execution_count": null,
   "id": "22da461e-fdb1-4b11-905b-664e203405eb",
   "metadata": {},
   "outputs": [],
   "source": []
  }
 ],
 "metadata": {
  "kernelspec": {
   "display_name": "Python 3 (ipykernel)",
   "language": "python",
   "name": "python3"
  },
  "language_info": {
   "codemirror_mode": {
    "name": "ipython",
    "version": 3
   },
   "file_extension": ".py",
   "mimetype": "text/x-python",
   "name": "python",
   "nbconvert_exporter": "python",
   "pygments_lexer": "ipython3",
   "version": "3.10.6"
  }
 },
 "nbformat": 4,
 "nbformat_minor": 5
}
