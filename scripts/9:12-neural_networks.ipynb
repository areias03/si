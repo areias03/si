{
 "cells": [
  {
   "cell_type": "markdown",
   "id": "2729ff69-8cf7-4cb5-9057-b5907f325bfc",
   "metadata": {
    "tags": []
   },
   "source": [
    "# Neural Networks\n",
    "### **Aluno:** Alexandre Areias Castro PG45962"
   ]
  },
  {
   "cell_type": "code",
   "execution_count": 1,
   "id": "e34621bb-a08f-4b38-acb0-be82e42dc1c3",
   "metadata": {},
   "outputs": [],
   "source": [
    "import sys\n",
    "sys.path.append(\"/Users/alexandre/Documents/Mestrado/2º Ano/SIB/si/src\")\n",
    "from si.data.dataset import Dataset\n",
    "import numpy as np\n",
    "from si.neural_networks.layer import Dense\n",
    "from si.neural_networks.nn import NN\n",
    "from si.neural_networks.layer import SigmoidActivation\n",
    "from si.neural_networks.layer import SoftMaxActivation\n",
    "from si.neural_networks.layer import ReLUActivation\n",
    "from si.neural_networks.layer import LinearActivation\n",
    "from si.io.csv import read_csv\n",
    "from sklearn.preprocessing import StandardScaler\n",
    "from si.metrics.cross_entropy import cross_entropy\n",
    "from si.model_selection.split import train_test_split"
   ]
  },
  {
   "cell_type": "markdown",
   "id": "17b7c090-ae9b-4973-b8bd-3acd81302dc8",
   "metadata": {},
   "source": [
    "# Exercício 10: Redes neuronais, layers de ativação, regressão e multiclass"
   ]
  },
  {
   "cell_type": "markdown",
   "id": "32230393-17fa-4df1-b19e-fae2489b2e82",
   "metadata": {},
   "source": [
    "#### 10.1) Adiciona uma nova layer de ativação chamada SoftMaxActivation"
   ]
  },
  {
   "cell_type": "markdown",
   "id": "5ab6c0a9-abd9-4045-8aad-6cb487f1e884",
   "metadata": {},
   "source": [
    "#### 10.2) Adiciona uma nova layer de ativação chamada ReLUActivation"
   ]
  },
  {
   "cell_type": "markdown",
   "id": "6806d4fa-9ac4-46c3-8904-2df2a4e994fd",
   "metadata": {},
   "source": [
    "#### 10.3) Constrói um modelo de redes neuronais considerando a seguinte topologia:\n",
    "- O dataset de treino contém 32 features\n",
    "- O problema é do tipo binário\n",
    "- O modelo deve conter 3 Dense layers:\n",
    "    - Dense layer de input\n",
    "    - Dense layer com redução do número de neurónios (units) para metade\n",
    "    - Dense layer final (output)\n",
    "- Usa a SigmoidActivation como layer de ativação"
   ]
  },
  {
   "cell_type": "code",
   "execution_count": 2,
   "id": "e53af39f-0369-4849-976a-fae492b16648",
   "metadata": {},
   "outputs": [],
   "source": [
    "x = np.random.randn(100, 32) \n",
    "y = np.random.randint(0, 2, size=(100, 1))\n",
    "\n",
    "dataset = Dataset(X=x, y=y)\n",
    "\n",
    "layer1 = Dense(input_size=32, output_size=32)\n",
    "layer2 = Dense(input_size=32, output_size=16)\n",
    "layer3 = Dense(input_size=16, output_size=1)\n",
    "\n",
    "layer1_activation = SigmoidActivation()\n",
    "layer2_activation = SigmoidActivation()\n",
    "layer3_activation = SigmoidActivation()\n",
    "\n",
    "nn_model103 = NN(layers=[layer1, layer1_activation, layer2, layer2_activation, layer3, layer3_activation])"
   ]
  },
  {
   "cell_type": "markdown",
   "id": "70c78d8a-1a70-4a53-9c8e-81b86a0a6bd6",
   "metadata": {},
   "source": [
    "#### 10.4) Constrói um modelo de redes neuronais considerando a seguinte topologia:\n",
    "- O dataset de treino contém 32 features\n",
    "- O problema é do tipo multiclass com 3 classes\n",
    "- O modelo deve conter 3 Dense layers:\n",
    "    - Dense layer de input\n",
    "    - Dense layer com redução do número de neurónios (units) para metade\n",
    "    - Dense layer final (output)\n",
    "- Usa a SigmoidActivation como layer de ativação\n",
    "- Usa a SoftMaxActivation como última layer de ativação"
   ]
  },
  {
   "cell_type": "code",
   "execution_count": 3,
   "id": "db62d024-7623-4464-b7ac-f1d8ecdd68cd",
   "metadata": {},
   "outputs": [],
   "source": [
    "x = np.random.randn(100, 32)  \n",
    "y = np.random.randint(0, 3, size=(100, 1)) \n",
    "\n",
    "dataset = Dataset(x, y)\n",
    "\n",
    "layer1 = Dense(input_size=32, output_size=32)\n",
    "layer2 = Dense(input_size=32, output_size=16)\n",
    "layer3 = Dense(input_size=16, output_size=1)\n",
    "\n",
    "layer1_activation = SigmoidActivation()\n",
    "layer2_activation = SigmoidActivation()\n",
    "layer3_activation = SoftMaxActivation()\n",
    "\n",
    "nn_model104 = NN(layers=[layer1, layer1_activation, layer2, layer2_activation, layer3, layer3_activation])"
   ]
  },
  {
   "cell_type": "markdown",
   "id": "b9a14fff-4fb3-4455-a792-97bf5a017d10",
   "metadata": {},
   "source": [
    "#### 10.5) Constrói um modelo de redes neuronais considerando a seguinte topologia:\n",
    "- O dataset de treino contém 32 features\n",
    "- O problema é do tipo regressão\n",
    "- O modelo deve conter 3 Dense layers:\n",
    "    - Dense layer de input\n",
    "    - Dense layer com redução do número de neurónios (units) para metade\n",
    "    - Dense layer final (output)\n",
    "- Usa a ReLU como layer de ativação\n",
    "- Considera que o modelo deve acabar com uma ativação linear"
   ]
  },
  {
   "cell_type": "code",
   "execution_count": 4,
   "id": "e5a8af4b-4e51-4b7d-97e2-9fee48dfee53",
   "metadata": {},
   "outputs": [],
   "source": [
    "x = np.random.randn(100, 32)  \n",
    "y = np.random.randn(100, 1) \n",
    "\n",
    "dataset = Dataset(x, y)\n",
    "\n",
    "layer1 = Dense(input_size=32, output_size=32)\n",
    "layer2 = Dense(input_size=32, output_size=16)\n",
    "layer3 = Dense(input_size=16, output_size=1)\n",
    "\n",
    "layer1_activation = ReLUActivation()\n",
    "layer2_activation = ReLUActivation()\n",
    "layer3_activation = LinearActivation()\n",
    "\n",
    "nn_model105 = NN(layers=[layer1, layer1_activation, layer2, layer2_activation, layer3, layer3_activation])"
   ]
  },
  {
   "cell_type": "markdown",
   "id": "1e4e05c1-f55d-4221-9d97-4dad3ad46512",
   "metadata": {},
   "source": [
    "# Exercício 11: Medidas de erro"
   ]
  },
  {
   "cell_type": "markdown",
   "id": "01436920-3631-4437-bf7c-d48e33e35c1c",
   "metadata": {},
   "source": [
    "#### 11.1) Adiciona uma nova medida de erro chamada cross entropy"
   ]
  },
  {
   "cell_type": "markdown",
   "id": "b6cf49db-c056-4f99-b019-de06184ccc8b",
   "metadata": {},
   "source": [
    "#### 11.2) Adiciona agora a derivada da medida de erro cross entropy"
   ]
  },
  {
   "cell_type": "markdown",
   "id": "41e2e843-227a-4be1-9514-76c335a96b2e",
   "metadata": {},
   "source": [
    "# Exercício 12: Redes neuronais e Backpropagation"
   ]
  },
  {
   "cell_type": "markdown",
   "id": "8bc3a412-a4b1-4ae0-85fd-12ce78187987",
   "metadata": {},
   "source": [
    "#### 12.1) Implementa o método de backward propagation da ReLUActivation layer."
   ]
  },
  {
   "cell_type": "markdown",
   "id": "6c6ad099-b95d-4594-90e2-99f384a79ae9",
   "metadata": {},
   "source": [
    "#### 12.2) Constrói um modelo de redes neuronais adequado ao dataset breast-bin.csv."
   ]
  },
  {
   "cell_type": "code",
   "execution_count": 5,
   "id": "3b408afb-d5ad-495a-8071-cfd4e2a6c112",
   "metadata": {},
   "outputs": [
    {
     "name": "stderr",
     "output_type": "stream",
     "text": [
      "/Users/alexandre/Documents/Mestrado/2º Ano/SIB/si/src/si/io/csv.py:18: FutureWarning: In a future version of pandas all arguments of read_csv except for the argument 'filepath_or_buffer' will be keyword-only.\n",
      "  dataframe = pd.read_csv(filename, sep)\n"
     ]
    }
   ],
   "source": [
    "breast_bin_dataset = \"/Users/alexandre/Documents/Mestrado/2º Ano/SIB/si/datasets/breast-bin.csv\"\n",
    "data = read_csv(breast_bin_dataset, label=True)"
   ]
  },
  {
   "cell_type": "code",
   "execution_count": 6,
   "id": "b2fe5220-2ee0-41d1-a0d0-b3a1b7044108",
   "metadata": {},
   "outputs": [],
   "source": [
    "data.X = StandardScaler().fit_transform(data.X)"
   ]
  },
  {
   "cell_type": "code",
   "execution_count": 7,
   "id": "9296a617-6ac7-481a-9417-a463866c701f",
   "metadata": {},
   "outputs": [],
   "source": [
    "data_train, data_test = train_test_split(data)"
   ]
  },
  {
   "cell_type": "code",
   "execution_count": 12,
   "id": "5413f827-af5d-4dd1-8b86-c8e568e81d37",
   "metadata": {},
   "outputs": [],
   "source": [
    "bb_layer1 = Dense(input_size=9, output_size=9)\n",
    "bb_layer2 = Dense(input_size=9, output_size=5)\n",
    "bb_layer3 = Dense(input_size=5, output_size=1)"
   ]
  },
  {
   "cell_type": "code",
   "execution_count": 13,
   "id": "ea375f5b-74c5-4db2-b39a-2f474548b8e1",
   "metadata": {},
   "outputs": [],
   "source": [
    "bb_layer1_activation = ReLUActivation()\n",
    "bb_layer2_activation = ReLUActivation()\n",
    "bb_layer3_activation = SigmoidActivation()"
   ]
  },
  {
   "cell_type": "code",
   "execution_count": 14,
   "id": "75d67452-08ee-4ffd-938b-94afd8f70035",
   "metadata": {},
   "outputs": [],
   "source": [
    "bb_model = NN(layers=[bb_layer1, bb_layer1_activation, bb_layer2, bb_layer2_activation, bb_layer3, bb_layer3_activation])"
   ]
  },
  {
   "cell_type": "code",
   "execution_count": 15,
   "id": "ecdca869-3a20-4417-b9bd-90cbd2ea48ca",
   "metadata": {},
   "outputs": [
    {
     "ename": "ValueError",
     "evalue": "operands could not be broadcast together with shapes (559,) (559,5) ",
     "output_type": "error",
     "traceback": [
      "\u001b[0;31m---------------------------------------------------------------------------\u001b[0m",
      "\u001b[0;31mValueError\u001b[0m                                Traceback (most recent call last)",
      "Cell \u001b[0;32mIn [15], line 1\u001b[0m\n\u001b[0;32m----> 1\u001b[0m \u001b[43mbb_model\u001b[49m\u001b[38;5;241;43m.\u001b[39;49m\u001b[43mfit\u001b[49m\u001b[43m(\u001b[49m\u001b[43mdataset\u001b[49m\u001b[38;5;241;43m=\u001b[39;49m\u001b[43mdata_train\u001b[49m\u001b[43m)\u001b[49m\n",
      "File \u001b[0;32m~/Documents/Mestrado/2º Ano/SIB/si/src/si/neural_networks/nn.py:91\u001b[0m, in \u001b[0;36mNN.fit\u001b[0;34m(self, dataset)\u001b[0m\n\u001b[1;32m     88\u001b[0m     X \u001b[38;5;241m=\u001b[39m layer\u001b[38;5;241m.\u001b[39mforward(X)\n\u001b[1;32m     90\u001b[0m \u001b[38;5;66;03m# backward propagation\u001b[39;00m\n\u001b[0;32m---> 91\u001b[0m error \u001b[38;5;241m=\u001b[39m \u001b[38;5;28;43mself\u001b[39;49m\u001b[38;5;241;43m.\u001b[39;49m\u001b[43mloss_derivative\u001b[49m\u001b[43m(\u001b[49m\u001b[43my\u001b[49m\u001b[43m,\u001b[49m\u001b[43m \u001b[49m\u001b[43mX\u001b[49m\u001b[43m)\u001b[49m\n\u001b[1;32m     92\u001b[0m \u001b[38;5;28;01mfor\u001b[39;00m layer \u001b[38;5;129;01min\u001b[39;00m \u001b[38;5;28mself\u001b[39m\u001b[38;5;241m.\u001b[39mlayers[::\u001b[38;5;241m-\u001b[39m\u001b[38;5;241m1\u001b[39m]:\n\u001b[1;32m     93\u001b[0m     error \u001b[38;5;241m=\u001b[39m layer\u001b[38;5;241m.\u001b[39mbackward(error, \u001b[38;5;28mself\u001b[39m\u001b[38;5;241m.\u001b[39mlearning_rate)\n",
      "File \u001b[0;32m~/Documents/Mestrado/2º Ano/SIB/si/src/si/metrics/mse.py:35\u001b[0m, in \u001b[0;36mmse_derivative\u001b[0;34m(y_true, y_pred)\u001b[0m\n\u001b[1;32m     21\u001b[0m \u001b[38;5;28;01mdef\u001b[39;00m \u001b[38;5;21mmse_derivative\u001b[39m(y_true: np\u001b[38;5;241m.\u001b[39mndarray, y_pred: np\u001b[38;5;241m.\u001b[39mndarray) \u001b[38;5;241m-\u001b[39m\u001b[38;5;241m>\u001b[39m np\u001b[38;5;241m.\u001b[39mndarray:\n\u001b[1;32m     22\u001b[0m     \u001b[38;5;124;03m\"\"\"\u001b[39;00m\n\u001b[1;32m     23\u001b[0m \u001b[38;5;124;03m    It returns the derivative of the mean squared error for the y_pred variable.\u001b[39;00m\n\u001b[1;32m     24\u001b[0m \u001b[38;5;124;03m    Parameters\u001b[39;00m\n\u001b[0;32m   (...)\u001b[0m\n\u001b[1;32m     33\u001b[0m \u001b[38;5;124;03m        The derivative of the mean squared error\u001b[39;00m\n\u001b[1;32m     34\u001b[0m \u001b[38;5;124;03m    \"\"\"\u001b[39;00m\n\u001b[0;32m---> 35\u001b[0m     \u001b[38;5;28;01mreturn\u001b[39;00m \u001b[38;5;241m-\u001b[39m\u001b[38;5;241m2\u001b[39m \u001b[38;5;241m*\u001b[39m (\u001b[43my_true\u001b[49m\u001b[43m \u001b[49m\u001b[38;5;241;43m-\u001b[39;49m\u001b[43m \u001b[49m\u001b[43my_pred\u001b[49m) \u001b[38;5;241m/\u001b[39m (\u001b[38;5;28mlen\u001b[39m(y_true) \u001b[38;5;241m*\u001b[39m \u001b[38;5;241m2\u001b[39m)\n",
      "\u001b[0;31mValueError\u001b[0m: operands could not be broadcast together with shapes (559,) (559,5) "
     ]
    }
   ],
   "source": [
    "bb_model.fit(dataset=data_train)"
   ]
  },
  {
   "cell_type": "code",
   "execution_count": null,
   "id": "bff0f32d-d049-4e93-a1d5-f83ad4ff0e07",
   "metadata": {},
   "outputs": [],
   "source": [
    "bb_model.predict(dataset=data_test)"
   ]
  },
  {
   "cell_type": "markdown",
   "id": "296d848a-103a-4064-9b57-eb04376eb129",
   "metadata": {},
   "source": [
    "#### 12.3) Constrói um modelo de redes neuronais adequado ao dataset cpu.csv."
   ]
  },
  {
   "cell_type": "code",
   "execution_count": 16,
   "id": "8eee2695-6bea-40c0-adec-10d4164f3029",
   "metadata": {},
   "outputs": [
    {
     "name": "stderr",
     "output_type": "stream",
     "text": [
      "/Users/alexandre/Documents/Mestrado/2º Ano/SIB/si/src/si/io/csv.py:18: FutureWarning: In a future version of pandas all arguments of read_csv except for the argument 'filepath_or_buffer' will be keyword-only.\n",
      "  dataframe = pd.read_csv(filename, sep)\n"
     ]
    },
    {
     "ename": "ValueError",
     "evalue": "shapes (168,1) and (6,6) not aligned: 1 (dim 1) != 6 (dim 0)",
     "output_type": "error",
     "traceback": [
      "\u001b[0;31m---------------------------------------------------------------------------\u001b[0m",
      "\u001b[0;31mValueError\u001b[0m                                Traceback (most recent call last)",
      "Cell \u001b[0;32mIn [16], line 18\u001b[0m\n\u001b[1;32m     14\u001b[0m layer3_activation \u001b[38;5;241m=\u001b[39m SigmoidActivation()\n\u001b[1;32m     16\u001b[0m model \u001b[38;5;241m=\u001b[39m NN(layers\u001b[38;5;241m=\u001b[39m[layer1, layer1_activation, layer2, layer2_activation, layer3, layer3_activation])\n\u001b[0;32m---> 18\u001b[0m \u001b[43mmodel\u001b[49m\u001b[38;5;241;43m.\u001b[39;49m\u001b[43mfit\u001b[49m\u001b[43m(\u001b[49m\u001b[43mtrain\u001b[49m\u001b[43m)\u001b[49m\n\u001b[1;32m     20\u001b[0m model\u001b[38;5;241m.\u001b[39mpredict(train)\n",
      "File \u001b[0;32m~/Documents/Mestrado/2º Ano/SIB/si/src/si/neural_networks/nn.py:88\u001b[0m, in \u001b[0;36mNN.fit\u001b[0;34m(self, dataset)\u001b[0m\n\u001b[1;32m     84\u001b[0m \u001b[38;5;28;01mfor\u001b[39;00m epoch \u001b[38;5;129;01min\u001b[39;00m \u001b[38;5;28mrange\u001b[39m(\u001b[38;5;241m1\u001b[39m, \u001b[38;5;28mself\u001b[39m\u001b[38;5;241m.\u001b[39mepochs \u001b[38;5;241m+\u001b[39m \u001b[38;5;241m1\u001b[39m):\n\u001b[1;32m     85\u001b[0m \n\u001b[1;32m     86\u001b[0m     \u001b[38;5;66;03m# forward propagation\u001b[39;00m\n\u001b[1;32m     87\u001b[0m     \u001b[38;5;28;01mfor\u001b[39;00m layer \u001b[38;5;129;01min\u001b[39;00m \u001b[38;5;28mself\u001b[39m\u001b[38;5;241m.\u001b[39mlayers:\n\u001b[0;32m---> 88\u001b[0m         X \u001b[38;5;241m=\u001b[39m \u001b[43mlayer\u001b[49m\u001b[38;5;241;43m.\u001b[39;49m\u001b[43mforward\u001b[49m\u001b[43m(\u001b[49m\u001b[43mX\u001b[49m\u001b[43m)\u001b[49m\n\u001b[1;32m     90\u001b[0m     \u001b[38;5;66;03m# backward propagation\u001b[39;00m\n\u001b[1;32m     91\u001b[0m     error \u001b[38;5;241m=\u001b[39m \u001b[38;5;28mself\u001b[39m\u001b[38;5;241m.\u001b[39mloss_derivative(y, X)\n",
      "File \u001b[0;32m~/Documents/Mestrado/2º Ano/SIB/si/src/si/neural_networks/layer.py:52\u001b[0m, in \u001b[0;36mDense.forward\u001b[0;34m(self, X)\u001b[0m\n\u001b[1;32m     39\u001b[0m \u001b[38;5;28;01mdef\u001b[39;00m \u001b[38;5;21mforward\u001b[39m(\u001b[38;5;28mself\u001b[39m, X: np\u001b[38;5;241m.\u001b[39mndarray) \u001b[38;5;241m-\u001b[39m\u001b[38;5;241m>\u001b[39m np\u001b[38;5;241m.\u001b[39mndarray:\n\u001b[1;32m     40\u001b[0m     \u001b[38;5;124;03m\"\"\"\u001b[39;00m\n\u001b[1;32m     41\u001b[0m \u001b[38;5;124;03m    Performs a forward pass of the layer using the given input.\u001b[39;00m\n\u001b[1;32m     42\u001b[0m \u001b[38;5;124;03m    Returns a 2d numpy array with shape (1, output_size).\u001b[39;00m\n\u001b[0;32m   (...)\u001b[0m\n\u001b[1;32m     50\u001b[0m \u001b[38;5;124;03m        The output of the layer.\u001b[39;00m\n\u001b[1;32m     51\u001b[0m \u001b[38;5;124;03m    \"\"\"\u001b[39;00m\n\u001b[0;32m---> 52\u001b[0m     \u001b[38;5;28;01mreturn\u001b[39;00m \u001b[43mnp\u001b[49m\u001b[38;5;241;43m.\u001b[39;49m\u001b[43mdot\u001b[49m\u001b[43m(\u001b[49m\u001b[43mX\u001b[49m\u001b[43m,\u001b[49m\u001b[43m \u001b[49m\u001b[38;5;28;43mself\u001b[39;49m\u001b[38;5;241;43m.\u001b[39;49m\u001b[43mweights\u001b[49m\u001b[43m)\u001b[49m \u001b[38;5;241m+\u001b[39m \u001b[38;5;28mself\u001b[39m\u001b[38;5;241m.\u001b[39mbias\n",
      "File \u001b[0;32m<__array_function__ internals>:180\u001b[0m, in \u001b[0;36mdot\u001b[0;34m(*args, **kwargs)\u001b[0m\n",
      "\u001b[0;31mValueError\u001b[0m: shapes (168,1) and (6,6) not aligned: 1 (dim 1) != 6 (dim 0)"
     ]
    }
   ],
   "source": [
    "cpu_path = \"/Users/alexandre/Documents/Mestrado/2º Ano/SIB/si/datasets/cpu.csv\"\n",
    "cpu_data = read_csv(cpu_path, features=True, label=True)\n",
    "\n",
    "cpu_data.X = StandardScaler().fit_transform(cpu_data.X)\n",
    "\n",
    "train, test = train_test_split(cpu_data)\n",
    "\n",
    "layer1 = Dense(input_size=6, output_size=6)\n",
    "layer2 = Dense(input_size=6, output_size=4)\n",
    "layer3 = Dense(input_size=4, output_size=1)\n",
    "\n",
    "layer1_activation = ReLUActivation()\n",
    "layer2_activation = ReLUActivation()\n",
    "layer3_activation = SigmoidActivation()\n",
    "\n",
    "model = NN(layers=[layer1, layer1_activation, layer2, layer2_activation, layer3, layer3_activation])\n",
    "\n",
    "model.fit(train)\n",
    "\n",
    "model.predict(train)"
   ]
  }
 ],
 "metadata": {
  "kernelspec": {
   "display_name": "Python 3 (ipykernel)",
   "language": "python",
   "name": "python3"
  },
  "language_info": {
   "codemirror_mode": {
    "name": "ipython",
    "version": 3
   },
   "file_extension": ".py",
   "mimetype": "text/x-python",
   "name": "python",
   "nbconvert_exporter": "python",
   "pygments_lexer": "ipython3",
   "version": "3.10.6"
  }
 },
 "nbformat": 4,
 "nbformat_minor": 5
}
