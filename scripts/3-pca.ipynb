{
 "cells": [
  {
   "cell_type": "markdown",
   "id": "26f5a87f-2c9e-4637-ac2c-135c93348b42",
   "metadata": {},
   "source": [
    "# Ficha 3 -  Implementar o PCA\n",
    "\n",
    "### **Aluno:** Alexandre Areias Castro PG45962"
   ]
  },
  {
   "cell_type": "markdown",
   "id": "685118b0-8455-4059-84be-d4dfbee1694f",
   "metadata": {},
   "source": [
    "## Exercício 3"
   ]
  },
  {
   "cell_type": "markdown",
   "id": "bda40431-c9b1-4fb2-8acc-5fffe82366ab",
   "metadata": {},
   "source": [
    "#### 3.1) Adiciona o objeto PCA ao sub-package decomposition. Deves criar um módulo chamado pca.py para implementar este objeto"
   ]
  },
  {
   "cell_type": "markdown",
   "id": "17974480-4954-4a89-800e-a79a96914a3c",
   "metadata": {},
   "source": [
    "#### 3.2) Considera a estrutura do objeto PCA apresentada no diapositivo seguinte."
   ]
  },
  {
   "cell_type": "markdown",
   "id": "1ee5230c-bb7f-4aed-a494-102b770c4cb2",
   "metadata": {},
   "source": [
    "#### 3.3) Podes testar o objeto PCA num jupyter notebook usando o dataset iris.csv (classificação)"
   ]
  },
  {
   "cell_type": "code",
   "execution_count": 2,
   "id": "72f8f663-d50e-4325-8d2a-29d13f48f68c",
   "metadata": {},
   "outputs": [
    {
     "data": {
      "text/html": [
       "<div>\n",
       "<style scoped>\n",
       "    .dataframe tbody tr th:only-of-type {\n",
       "        vertical-align: middle;\n",
       "    }\n",
       "\n",
       "    .dataframe tbody tr th {\n",
       "        vertical-align: top;\n",
       "    }\n",
       "\n",
       "    .dataframe thead th {\n",
       "        text-align: right;\n",
       "    }\n",
       "</style>\n",
       "<table border=\"1\" class=\"dataframe\">\n",
       "  <thead>\n",
       "    <tr style=\"text-align: right;\">\n",
       "      <th></th>\n",
       "      <th>sepal_length</th>\n",
       "      <th>sepal_width</th>\n",
       "      <th>petal_length</th>\n",
       "      <th>petal_width</th>\n",
       "    </tr>\n",
       "  </thead>\n",
       "  <tbody>\n",
       "    <tr>\n",
       "      <th>Iris-setosa</th>\n",
       "      <td>5.1</td>\n",
       "      <td>3.5</td>\n",
       "      <td>1.4</td>\n",
       "      <td>0.2</td>\n",
       "    </tr>\n",
       "    <tr>\n",
       "      <th>Iris-setosa</th>\n",
       "      <td>4.9</td>\n",
       "      <td>3.0</td>\n",
       "      <td>1.4</td>\n",
       "      <td>0.2</td>\n",
       "    </tr>\n",
       "    <tr>\n",
       "      <th>Iris-setosa</th>\n",
       "      <td>4.7</td>\n",
       "      <td>3.2</td>\n",
       "      <td>1.3</td>\n",
       "      <td>0.2</td>\n",
       "    </tr>\n",
       "    <tr>\n",
       "      <th>Iris-setosa</th>\n",
       "      <td>4.6</td>\n",
       "      <td>3.1</td>\n",
       "      <td>1.5</td>\n",
       "      <td>0.2</td>\n",
       "    </tr>\n",
       "    <tr>\n",
       "      <th>Iris-setosa</th>\n",
       "      <td>5.0</td>\n",
       "      <td>3.6</td>\n",
       "      <td>1.4</td>\n",
       "      <td>0.2</td>\n",
       "    </tr>\n",
       "    <tr>\n",
       "      <th>...</th>\n",
       "      <td>...</td>\n",
       "      <td>...</td>\n",
       "      <td>...</td>\n",
       "      <td>...</td>\n",
       "    </tr>\n",
       "    <tr>\n",
       "      <th>Iris-virginica</th>\n",
       "      <td>6.7</td>\n",
       "      <td>3.0</td>\n",
       "      <td>5.2</td>\n",
       "      <td>2.3</td>\n",
       "    </tr>\n",
       "    <tr>\n",
       "      <th>Iris-virginica</th>\n",
       "      <td>6.3</td>\n",
       "      <td>2.5</td>\n",
       "      <td>5.0</td>\n",
       "      <td>1.9</td>\n",
       "    </tr>\n",
       "    <tr>\n",
       "      <th>Iris-virginica</th>\n",
       "      <td>6.5</td>\n",
       "      <td>3.0</td>\n",
       "      <td>5.2</td>\n",
       "      <td>2.0</td>\n",
       "    </tr>\n",
       "    <tr>\n",
       "      <th>Iris-virginica</th>\n",
       "      <td>6.2</td>\n",
       "      <td>3.4</td>\n",
       "      <td>5.4</td>\n",
       "      <td>2.3</td>\n",
       "    </tr>\n",
       "    <tr>\n",
       "      <th>Iris-virginica</th>\n",
       "      <td>5.9</td>\n",
       "      <td>3.0</td>\n",
       "      <td>5.1</td>\n",
       "      <td>1.8</td>\n",
       "    </tr>\n",
       "  </tbody>\n",
       "</table>\n",
       "<p>150 rows × 4 columns</p>\n",
       "</div>"
      ],
      "text/plain": [
       "                sepal_length  sepal_width  petal_length  petal_width\n",
       "Iris-setosa              5.1          3.5           1.4          0.2\n",
       "Iris-setosa              4.9          3.0           1.4          0.2\n",
       "Iris-setosa              4.7          3.2           1.3          0.2\n",
       "Iris-setosa              4.6          3.1           1.5          0.2\n",
       "Iris-setosa              5.0          3.6           1.4          0.2\n",
       "...                      ...          ...           ...          ...\n",
       "Iris-virginica           6.7          3.0           5.2          2.3\n",
       "Iris-virginica           6.3          2.5           5.0          1.9\n",
       "Iris-virginica           6.5          3.0           5.2          2.0\n",
       "Iris-virginica           6.2          3.4           5.4          2.3\n",
       "Iris-virginica           5.9          3.0           5.1          1.8\n",
       "\n",
       "[150 rows x 4 columns]"
      ]
     },
     "execution_count": 2,
     "metadata": {},
     "output_type": "execute_result"
    }
   ],
   "source": [
    "import sys\n",
    "sys.path.append(\"/Users/alexandre/Documents/Mestrado/2º Ano/SIB/si/src\")\n",
    "from si.decomposition.pca import PCA\n",
    "from si.io.csv import read_csv\n",
    "iris_path = \"/Users/alexandre/Documents/Mestrado/2º Ano/SIB/si/datasets/iris.csv\"\n",
    "iris = read_csv(iris_path, features=True, label=True)\n",
    "iris.print_dataframe()"
   ]
  },
  {
   "cell_type": "code",
   "execution_count": 3,
   "id": "0e207c31-4b72-4c30-a1db-64341cc16551",
   "metadata": {},
   "outputs": [
    {
     "data": {
      "text/plain": [
       "array([[ 0.36158968, -0.08226889,  0.85657211,  0.35884393],\n",
       "       [-0.65653988, -0.72971237,  0.1757674 ,  0.07470647]])"
      ]
     },
     "execution_count": 3,
     "metadata": {},
     "output_type": "execute_result"
    }
   ],
   "source": [
    "selector = PCA(n_components=2)\n",
    "selector.fit_transform(iris)\n",
    "selector.components"
   ]
  },
  {
   "cell_type": "code",
   "execution_count": 4,
   "id": "5612f5b7-e012-4cb4-979f-21e6189261dc",
   "metadata": {},
   "outputs": [
    {
     "data": {
      "text/plain": [
       "array([4.22484077, 0.24224357])"
      ]
     },
     "execution_count": 4,
     "metadata": {},
     "output_type": "execute_result"
    }
   ],
   "source": [
    "selector.explained_variance"
   ]
  },
  {
   "cell_type": "code",
   "execution_count": 5,
   "id": "92b60a15-e48d-49cb-aadb-ccddbb9608bf",
   "metadata": {},
   "outputs": [
    {
     "data": {
      "text/plain": [
       "array([5.84333333, 3.054     , 3.75866667, 1.19866667])"
      ]
     },
     "execution_count": 5,
     "metadata": {},
     "output_type": "execute_result"
    }
   ],
   "source": [
    "selector.mean"
   ]
  }
 ],
 "metadata": {
  "kernelspec": {
   "display_name": "Python 3 (ipykernel)",
   "language": "python",
   "name": "python3"
  },
  "language_info": {
   "codemirror_mode": {
    "name": "ipython",
    "version": 3
   },
   "file_extension": ".py",
   "mimetype": "text/x-python",
   "name": "python",
   "nbconvert_exporter": "python",
   "pygments_lexer": "ipython3",
   "version": "3.10.6"
  }
 },
 "nbformat": 4,
 "nbformat_minor": 5
}
