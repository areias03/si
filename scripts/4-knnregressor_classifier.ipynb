{
 "cells": [
  {
   "cell_type": "markdown",
   "id": "80dbb645-2fb7-4037-ab07-73334ebfe77f",
   "metadata": {
    "tags": []
   },
   "source": [
    "# Exercício 3: Implementar o KNNRegressor com RMSE\n",
    "\n",
    "### **Aluno:** Alexandre Areias Castro PG45962"
   ]
  },
  {
   "cell_type": "markdown",
   "id": "bc65db2e-8406-433f-b402-9f2343056083",
   "metadata": {},
   "source": [
    "## Exercício 3"
   ]
  },
  {
   "cell_type": "markdown",
   "id": "f2518634-c209-4d1e-9a3d-a89fe02e688b",
   "metadata": {},
   "source": [
    "#### 3.1) Adiciona a métrica RMSE (RMQE em português) ao sub-package metrics. Deves criar um módulo chamado rmse.py."
   ]
  },
  {
   "cell_type": "markdown",
   "id": "3dd94fbe-6e41-4511-a29e-df90a3b274f1",
   "metadata": {},
   "source": [
    "#### 3.2) Considera a estrutura da função rmse apresentada no diapositivo seguinte."
   ]
  },
  {
   "cell_type": "markdown",
   "id": "bbac81a7-7d40-4407-a14e-17ea57cdfab0",
   "metadata": {},
   "source": [
    "#### 3.2) Adiciona o objeto KNNRegressor ao sub-package neighbors. Deves criar um módulo chamado knn_regressor.py para implementar este objeto."
   ]
  },
  {
   "cell_type": "markdown",
   "id": "533799ea-ca74-4fc6-a557-a8c7ba4d6ad4",
   "metadata": {},
   "source": [
    "#### 3.3) Considera a estrutura do objeto KNNRegressor apresentada no diapositivo seguinte."
   ]
  },
  {
   "cell_type": "markdown",
   "id": "939823ca-32da-4655-9f71-1f4024ae59e2",
   "metadata": {},
   "source": [
    "#### 3.4) Podes testar o objeto KNNRegressor num jupyter notebook usando o dataset cpu.csv (regressão)"
   ]
  },
  {
   "cell_type": "code",
   "execution_count": 1,
   "id": "cd04887b-31a7-42b9-9731-229e8ef70a9c",
   "metadata": {},
   "outputs": [],
   "source": [
    "import sys\n",
    "sys.path.append(\"/Users/alexandre/Documents/Mestrado/2º Ano/SIB/si/src\")\n",
    "from si.neighbors.knn_regressor import KNNRegressor\n",
    "from si.model_selection.split import train_test_split\n",
    "from si.io.csv import read_csv\n",
    "from si.statistic.euclidean_distance import euclidean_distance"
   ]
  },
  {
   "cell_type": "code",
   "execution_count": 2,
   "id": "28d1830d-9678-4df7-9b50-0fc81bd64a87",
   "metadata": {},
   "outputs": [
    {
     "name": "stderr",
     "output_type": "stream",
     "text": [
      "/Users/alexandre/Documents/Mestrado/2º Ano/SIB/si/src/si/io/csv.py:18: FutureWarning: In a future version of pandas all arguments of read_csv except for the argument 'filepath_or_buffer' will be keyword-only.\n",
      "  dataframe = pd.read_csv(filename, sep)\n"
     ]
    },
    {
     "data": {
      "text/html": [
       "<div>\n",
       "<style scoped>\n",
       "    .dataframe tbody tr th:only-of-type {\n",
       "        vertical-align: middle;\n",
       "    }\n",
       "\n",
       "    .dataframe tbody tr th {\n",
       "        vertical-align: top;\n",
       "    }\n",
       "\n",
       "    .dataframe thead th {\n",
       "        text-align: right;\n",
       "    }\n",
       "</style>\n",
       "<table border=\"1\" class=\"dataframe\">\n",
       "  <thead>\n",
       "    <tr style=\"text-align: right;\">\n",
       "      <th></th>\n",
       "      <th>syct</th>\n",
       "      <th>mmin</th>\n",
       "      <th>mmax</th>\n",
       "      <th>cach</th>\n",
       "      <th>chmin</th>\n",
       "      <th>chmax</th>\n",
       "    </tr>\n",
       "  </thead>\n",
       "  <tbody>\n",
       "    <tr>\n",
       "      <th>198</th>\n",
       "      <td>125</td>\n",
       "      <td>256</td>\n",
       "      <td>6000</td>\n",
       "      <td>256</td>\n",
       "      <td>16</td>\n",
       "      <td>128</td>\n",
       "    </tr>\n",
       "    <tr>\n",
       "      <th>269</th>\n",
       "      <td>29</td>\n",
       "      <td>8000</td>\n",
       "      <td>32000</td>\n",
       "      <td>32</td>\n",
       "      <td>8</td>\n",
       "      <td>32</td>\n",
       "    </tr>\n",
       "    <tr>\n",
       "      <th>220</th>\n",
       "      <td>29</td>\n",
       "      <td>8000</td>\n",
       "      <td>32000</td>\n",
       "      <td>32</td>\n",
       "      <td>8</td>\n",
       "      <td>32</td>\n",
       "    </tr>\n",
       "    <tr>\n",
       "      <th>172</th>\n",
       "      <td>29</td>\n",
       "      <td>8000</td>\n",
       "      <td>32000</td>\n",
       "      <td>32</td>\n",
       "      <td>8</td>\n",
       "      <td>32</td>\n",
       "    </tr>\n",
       "    <tr>\n",
       "      <th>132</th>\n",
       "      <td>29</td>\n",
       "      <td>8000</td>\n",
       "      <td>16000</td>\n",
       "      <td>32</td>\n",
       "      <td>8</td>\n",
       "      <td>16</td>\n",
       "    </tr>\n",
       "    <tr>\n",
       "      <th>...</th>\n",
       "      <td>...</td>\n",
       "      <td>...</td>\n",
       "      <td>...</td>\n",
       "      <td>...</td>\n",
       "      <td>...</td>\n",
       "      <td>...</td>\n",
       "    </tr>\n",
       "    <tr>\n",
       "      <th>42</th>\n",
       "      <td>124</td>\n",
       "      <td>1000</td>\n",
       "      <td>8000</td>\n",
       "      <td>0</td>\n",
       "      <td>1</td>\n",
       "      <td>8</td>\n",
       "    </tr>\n",
       "    <tr>\n",
       "      <th>46</th>\n",
       "      <td>98</td>\n",
       "      <td>1000</td>\n",
       "      <td>8000</td>\n",
       "      <td>32</td>\n",
       "      <td>2</td>\n",
       "      <td>8</td>\n",
       "    </tr>\n",
       "    <tr>\n",
       "      <th>52</th>\n",
       "      <td>125</td>\n",
       "      <td>2000</td>\n",
       "      <td>8000</td>\n",
       "      <td>0</td>\n",
       "      <td>2</td>\n",
       "      <td>14</td>\n",
       "    </tr>\n",
       "    <tr>\n",
       "      <th>67</th>\n",
       "      <td>480</td>\n",
       "      <td>512</td>\n",
       "      <td>8000</td>\n",
       "      <td>32</td>\n",
       "      <td>0</td>\n",
       "      <td>0</td>\n",
       "    </tr>\n",
       "    <tr>\n",
       "      <th>45</th>\n",
       "      <td>480</td>\n",
       "      <td>1000</td>\n",
       "      <td>4000</td>\n",
       "      <td>0</td>\n",
       "      <td>0</td>\n",
       "      <td>0</td>\n",
       "    </tr>\n",
       "  </tbody>\n",
       "</table>\n",
       "<p>209 rows × 6 columns</p>\n",
       "</div>"
      ],
      "text/plain": [
       "     syct  mmin   mmax  cach  chmin  chmax\n",
       "198   125   256   6000   256     16    128\n",
       "269    29  8000  32000    32      8     32\n",
       "220    29  8000  32000    32      8     32\n",
       "172    29  8000  32000    32      8     32\n",
       "132    29  8000  16000    32      8     16\n",
       "..    ...   ...    ...   ...    ...    ...\n",
       "42    124  1000   8000     0      1      8\n",
       "46     98  1000   8000    32      2      8\n",
       "52    125  2000   8000     0      2     14\n",
       "67    480   512   8000    32      0      0\n",
       "45    480  1000   4000     0      0      0\n",
       "\n",
       "[209 rows x 6 columns]"
      ]
     },
     "execution_count": 2,
     "metadata": {},
     "output_type": "execute_result"
    }
   ],
   "source": [
    "cpu_path = \"/Users/alexandre/Documents/Mestrado/2º Ano/SIB/si/datasets/cpu.csv\"\n",
    "cpu = read_csv(cpu_path, features=True, label=True)\n",
    "cpu.print_dataframe()"
   ]
  },
  {
   "cell_type": "code",
   "execution_count": 3,
   "id": "3c13c09c-7f4f-40ac-9b6e-5035ee6eac01",
   "metadata": {},
   "outputs": [],
   "source": [
    "train, test = train_test_split(cpu)"
   ]
  },
  {
   "cell_type": "code",
   "execution_count": 4,
   "id": "8616ade5-c6f9-4260-946b-ff347ee48c05",
   "metadata": {},
   "outputs": [
    {
     "data": {
      "text/plain": [
       "<si.neighbors.knn_regressor.KNNRegressor at 0x12d770460>"
      ]
     },
     "execution_count": 4,
     "metadata": {},
     "output_type": "execute_result"
    }
   ],
   "source": [
    "knnr = KNNRegressor(k=2, distance=euclidean_distance)\n",
    "knnr.fit(train)"
   ]
  },
  {
   "cell_type": "code",
   "execution_count": 5,
   "id": "5c52991e-6cf8-4c0e-a30b-5f0cdb9f49af",
   "metadata": {},
   "outputs": [
    {
     "data": {
      "text/plain": [
       "(61.366501945080834+0j)"
      ]
     },
     "execution_count": 5,
     "metadata": {},
     "output_type": "execute_result"
    }
   ],
   "source": [
    "knnr.score(test)"
   ]
  },
  {
   "cell_type": "markdown",
   "id": "fd7620bc-c0fd-4a10-a8f1-9381ab0e4260",
   "metadata": {},
   "source": [
    "## Teste do objeto KNNClassifier"
   ]
  },
  {
   "cell_type": "code",
   "execution_count": 6,
   "id": "fe12f4fb-58dc-4322-8910-0724dc20b57c",
   "metadata": {},
   "outputs": [
    {
     "data": {
      "text/plain": [
       "<si.neighbors.knn_classifier.KNNClassifier at 0x12d7887c0>"
      ]
     },
     "execution_count": 6,
     "metadata": {},
     "output_type": "execute_result"
    }
   ],
   "source": [
    "from si.neighbors.knn_classifier import KNNClassifier\n",
    "\n",
    "knnc = KNNClassifier(k=2, distance=euclidean_distance)\n",
    "knnc.fit(train)"
   ]
  },
  {
   "cell_type": "code",
   "execution_count": 7,
   "id": "2f3cf756-5aae-4d8f-af3f-636b862c9057",
   "metadata": {},
   "outputs": [
    {
     "data": {
      "text/plain": [
       "0.04878048780487805"
      ]
     },
     "execution_count": 7,
     "metadata": {},
     "output_type": "execute_result"
    }
   ],
   "source": [
    "knnc.score(test)"
   ]
  },
  {
   "cell_type": "markdown",
   "id": "7fc1f1b0-3965-494e-8365-1ae436d9ca51",
   "metadata": {},
   "source": [
    "#### Using the iris.csv dataset"
   ]
  },
  {
   "cell_type": "code",
   "execution_count": 9,
   "id": "64f5b3b8-f0bb-44fb-8a82-59ee634d1807",
   "metadata": {},
   "outputs": [
    {
     "name": "stderr",
     "output_type": "stream",
     "text": [
      "/Users/alexandre/Documents/Mestrado/2º Ano/SIB/si/src/si/io/csv.py:18: FutureWarning: In a future version of pandas all arguments of read_csv except for the argument 'filepath_or_buffer' will be keyword-only.\n",
      "  dataframe = pd.read_csv(filename, sep)\n"
     ]
    },
    {
     "data": {
      "text/html": [
       "<div>\n",
       "<style scoped>\n",
       "    .dataframe tbody tr th:only-of-type {\n",
       "        vertical-align: middle;\n",
       "    }\n",
       "\n",
       "    .dataframe tbody tr th {\n",
       "        vertical-align: top;\n",
       "    }\n",
       "\n",
       "    .dataframe thead th {\n",
       "        text-align: right;\n",
       "    }\n",
       "</style>\n",
       "<table border=\"1\" class=\"dataframe\">\n",
       "  <thead>\n",
       "    <tr style=\"text-align: right;\">\n",
       "      <th></th>\n",
       "      <th>sepal_length</th>\n",
       "      <th>sepal_width</th>\n",
       "      <th>petal_length</th>\n",
       "      <th>petal_width</th>\n",
       "    </tr>\n",
       "  </thead>\n",
       "  <tbody>\n",
       "    <tr>\n",
       "      <th>Iris-setosa</th>\n",
       "      <td>5.1</td>\n",
       "      <td>3.5</td>\n",
       "      <td>1.4</td>\n",
       "      <td>0.2</td>\n",
       "    </tr>\n",
       "    <tr>\n",
       "      <th>Iris-setosa</th>\n",
       "      <td>4.9</td>\n",
       "      <td>3.0</td>\n",
       "      <td>1.4</td>\n",
       "      <td>0.2</td>\n",
       "    </tr>\n",
       "    <tr>\n",
       "      <th>Iris-setosa</th>\n",
       "      <td>4.7</td>\n",
       "      <td>3.2</td>\n",
       "      <td>1.3</td>\n",
       "      <td>0.2</td>\n",
       "    </tr>\n",
       "    <tr>\n",
       "      <th>Iris-setosa</th>\n",
       "      <td>4.6</td>\n",
       "      <td>3.1</td>\n",
       "      <td>1.5</td>\n",
       "      <td>0.2</td>\n",
       "    </tr>\n",
       "    <tr>\n",
       "      <th>Iris-setosa</th>\n",
       "      <td>5.0</td>\n",
       "      <td>3.6</td>\n",
       "      <td>1.4</td>\n",
       "      <td>0.2</td>\n",
       "    </tr>\n",
       "    <tr>\n",
       "      <th>...</th>\n",
       "      <td>...</td>\n",
       "      <td>...</td>\n",
       "      <td>...</td>\n",
       "      <td>...</td>\n",
       "    </tr>\n",
       "    <tr>\n",
       "      <th>Iris-virginica</th>\n",
       "      <td>6.7</td>\n",
       "      <td>3.0</td>\n",
       "      <td>5.2</td>\n",
       "      <td>2.3</td>\n",
       "    </tr>\n",
       "    <tr>\n",
       "      <th>Iris-virginica</th>\n",
       "      <td>6.3</td>\n",
       "      <td>2.5</td>\n",
       "      <td>5.0</td>\n",
       "      <td>1.9</td>\n",
       "    </tr>\n",
       "    <tr>\n",
       "      <th>Iris-virginica</th>\n",
       "      <td>6.5</td>\n",
       "      <td>3.0</td>\n",
       "      <td>5.2</td>\n",
       "      <td>2.0</td>\n",
       "    </tr>\n",
       "    <tr>\n",
       "      <th>Iris-virginica</th>\n",
       "      <td>6.2</td>\n",
       "      <td>3.4</td>\n",
       "      <td>5.4</td>\n",
       "      <td>2.3</td>\n",
       "    </tr>\n",
       "    <tr>\n",
       "      <th>Iris-virginica</th>\n",
       "      <td>5.9</td>\n",
       "      <td>3.0</td>\n",
       "      <td>5.1</td>\n",
       "      <td>1.8</td>\n",
       "    </tr>\n",
       "  </tbody>\n",
       "</table>\n",
       "<p>150 rows × 4 columns</p>\n",
       "</div>"
      ],
      "text/plain": [
       "                sepal_length  sepal_width  petal_length  petal_width\n",
       "Iris-setosa              5.1          3.5           1.4          0.2\n",
       "Iris-setosa              4.9          3.0           1.4          0.2\n",
       "Iris-setosa              4.7          3.2           1.3          0.2\n",
       "Iris-setosa              4.6          3.1           1.5          0.2\n",
       "Iris-setosa              5.0          3.6           1.4          0.2\n",
       "...                      ...          ...           ...          ...\n",
       "Iris-virginica           6.7          3.0           5.2          2.3\n",
       "Iris-virginica           6.3          2.5           5.0          1.9\n",
       "Iris-virginica           6.5          3.0           5.2          2.0\n",
       "Iris-virginica           6.2          3.4           5.4          2.3\n",
       "Iris-virginica           5.9          3.0           5.1          1.8\n",
       "\n",
       "[150 rows x 4 columns]"
      ]
     },
     "execution_count": 9,
     "metadata": {},
     "output_type": "execute_result"
    }
   ],
   "source": [
    "iris_path = \"/Users/alexandre/Documents/Mestrado/2º Ano/SIB/si/datasets/iris.csv\"\n",
    "iris = read_csv(iris_path, features = True, label = True)\n",
    "iris.print_dataframe()"
   ]
  },
  {
   "cell_type": "code",
   "execution_count": 10,
   "id": "f3336f5b-cac9-4271-9ea9-c3e1b06d11d0",
   "metadata": {},
   "outputs": [],
   "source": [
    "train2, test2 = train_test_split(iris)"
   ]
  },
  {
   "cell_type": "code",
   "execution_count": 14,
   "id": "96d762dd-3601-4053-a283-d2043cc9bb56",
   "metadata": {},
   "outputs": [
    {
     "data": {
      "text/plain": [
       "<si.neighbors.knn_classifier.KNNClassifier at 0x12da86ce0>"
      ]
     },
     "execution_count": 14,
     "metadata": {},
     "output_type": "execute_result"
    }
   ],
   "source": [
    "knnc2 = KNNClassifier(k=2, distance=euclidean_distance)\n",
    "knnc2.fit(train2)"
   ]
  },
  {
   "cell_type": "code",
   "execution_count": 15,
   "id": "22b69c3f-0039-4051-be8b-fe734cb7fd46",
   "metadata": {},
   "outputs": [
    {
     "data": {
      "text/plain": [
       "1.0"
      ]
     },
     "execution_count": 15,
     "metadata": {},
     "output_type": "execute_result"
    }
   ],
   "source": [
    "knnc2.score(test2)"
   ]
  }
 ],
 "metadata": {
  "kernelspec": {
   "display_name": "Python 3 (ipykernel)",
   "language": "python",
   "name": "python3"
  },
  "language_info": {
   "codemirror_mode": {
    "name": "ipython",
    "version": 3
   },
   "file_extension": ".py",
   "mimetype": "text/x-python",
   "name": "python",
   "nbconvert_exporter": "python",
   "pygments_lexer": "ipython3",
   "version": "3.10.6"
  }
 },
 "nbformat": 4,
 "nbformat_minor": 5
}
