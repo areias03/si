{
 "cells": [
  {
   "cell_type": "markdown",
   "id": "2729ff69-8cf7-4cb5-9057-b5907f325bfc",
   "metadata": {
    "tags": []
   },
   "source": [
    "# Teste dos objetos VotingClassifier e StackingClassifier\n",
    "### **Aluno:** Alexandre Areias Castro PG45962"
   ]
  },
  {
   "cell_type": "code",
   "execution_count": 1,
   "id": "e34621bb-a08f-4b38-acb0-be82e42dc1c3",
   "metadata": {},
   "outputs": [],
   "source": [
    "import sys\n",
    "sys.path.append(\"/Users/alexandre/Documents/Mestrado/2º Ano/SIB/si/src\")\n",
    "from si.ensemble.voting_classifier import VotingClassifier\n",
    "from si.ensemble.stacking_classifier import StackingClassifier\n",
    "from si.io.csv import read_csv\n",
    "from sklearn.preprocessing import StandardScaler\n",
    "from si.model_selection.split import train_test_split\n",
    "from si.linear_model.logistic_regression import LogisticRegression\n",
    "from si.neighbors.knn_classifier import KNNClassifier\n",
    "from si.statistic.euclidean_distance import euclidean_distance"
   ]
  },
  {
   "cell_type": "markdown",
   "id": "41d2c561-8729-4292-87b1-a7c668e340c2",
   "metadata": {
    "tags": []
   },
   "source": [
    "## VotingClassifier"
   ]
  },
  {
   "cell_type": "code",
   "execution_count": 2,
   "id": "c2425b56-7e31-46e2-9f8a-46926a81ee62",
   "metadata": {},
   "outputs": [
    {
     "name": "stderr",
     "output_type": "stream",
     "text": [
      "/Users/alexandre/Documents/Mestrado/2º Ano/SIB/si/src/si/io/csv.py:18: FutureWarning: In a future version of pandas all arguments of read_csv except for the argument 'filepath_or_buffer' will be keyword-only.\n",
      "  dataframe = pd.read_csv(filename, sep)\n"
     ]
    },
    {
     "data": {
      "text/html": [
       "<div>\n",
       "<style scoped>\n",
       "    .dataframe tbody tr th:only-of-type {\n",
       "        vertical-align: middle;\n",
       "    }\n",
       "\n",
       "    .dataframe tbody tr th {\n",
       "        vertical-align: top;\n",
       "    }\n",
       "\n",
       "    .dataframe thead th {\n",
       "        text-align: right;\n",
       "    }\n",
       "</style>\n",
       "<table border=\"1\" class=\"dataframe\">\n",
       "  <thead>\n",
       "    <tr style=\"text-align: right;\">\n",
       "      <th></th>\n",
       "      <th>8.000000000000000000e+00</th>\n",
       "      <th>4.000000000000000000e+00</th>\n",
       "      <th>4.000000000000000000e+00.1</th>\n",
       "      <th>1.000000000000000000e+00</th>\n",
       "      <th>2.000000000000000000e+00</th>\n",
       "      <th>9.000000000000000000e+00</th>\n",
       "      <th>3.000000000000000000e+00</th>\n",
       "      <th>3.000000000000000000e+00.1</th>\n",
       "      <th>1.000000000000000000e+00.1</th>\n",
       "    </tr>\n",
       "  </thead>\n",
       "  <tbody>\n",
       "    <tr>\n",
       "      <th>0.0</th>\n",
       "      <td>5.0</td>\n",
       "      <td>1.0</td>\n",
       "      <td>1.0</td>\n",
       "      <td>3.0</td>\n",
       "      <td>2.0</td>\n",
       "      <td>1.0</td>\n",
       "      <td>1.0</td>\n",
       "      <td>1.0</td>\n",
       "      <td>1.0</td>\n",
       "    </tr>\n",
       "    <tr>\n",
       "      <th>0.0</th>\n",
       "      <td>2.0</td>\n",
       "      <td>1.0</td>\n",
       "      <td>1.0</td>\n",
       "      <td>1.0</td>\n",
       "      <td>3.0</td>\n",
       "      <td>1.0</td>\n",
       "      <td>2.0</td>\n",
       "      <td>1.0</td>\n",
       "      <td>1.0</td>\n",
       "    </tr>\n",
       "    <tr>\n",
       "      <th>0.0</th>\n",
       "      <td>2.0</td>\n",
       "      <td>1.0</td>\n",
       "      <td>1.0</td>\n",
       "      <td>1.0</td>\n",
       "      <td>2.0</td>\n",
       "      <td>1.0</td>\n",
       "      <td>3.0</td>\n",
       "      <td>1.0</td>\n",
       "      <td>1.0</td>\n",
       "    </tr>\n",
       "    <tr>\n",
       "      <th>1.0</th>\n",
       "      <td>9.0</td>\n",
       "      <td>5.0</td>\n",
       "      <td>8.0</td>\n",
       "      <td>1.0</td>\n",
       "      <td>2.0</td>\n",
       "      <td>3.0</td>\n",
       "      <td>2.0</td>\n",
       "      <td>1.0</td>\n",
       "      <td>5.0</td>\n",
       "    </tr>\n",
       "    <tr>\n",
       "      <th>0.0</th>\n",
       "      <td>3.0</td>\n",
       "      <td>1.0</td>\n",
       "      <td>1.0</td>\n",
       "      <td>1.0</td>\n",
       "      <td>2.0</td>\n",
       "      <td>1.0</td>\n",
       "      <td>3.0</td>\n",
       "      <td>1.0</td>\n",
       "      <td>1.0</td>\n",
       "    </tr>\n",
       "    <tr>\n",
       "      <th>...</th>\n",
       "      <td>...</td>\n",
       "      <td>...</td>\n",
       "      <td>...</td>\n",
       "      <td>...</td>\n",
       "      <td>...</td>\n",
       "      <td>...</td>\n",
       "      <td>...</td>\n",
       "      <td>...</td>\n",
       "      <td>...</td>\n",
       "    </tr>\n",
       "    <tr>\n",
       "      <th>0.0</th>\n",
       "      <td>1.0</td>\n",
       "      <td>1.0</td>\n",
       "      <td>1.0</td>\n",
       "      <td>1.0</td>\n",
       "      <td>4.0</td>\n",
       "      <td>3.0</td>\n",
       "      <td>1.0</td>\n",
       "      <td>1.0</td>\n",
       "      <td>1.0</td>\n",
       "    </tr>\n",
       "    <tr>\n",
       "      <th>0.0</th>\n",
       "      <td>5.0</td>\n",
       "      <td>3.0</td>\n",
       "      <td>1.0</td>\n",
       "      <td>2.0</td>\n",
       "      <td>2.0</td>\n",
       "      <td>1.0</td>\n",
       "      <td>2.0</td>\n",
       "      <td>1.0</td>\n",
       "      <td>1.0</td>\n",
       "    </tr>\n",
       "    <tr>\n",
       "      <th>0.0</th>\n",
       "      <td>5.0</td>\n",
       "      <td>2.0</td>\n",
       "      <td>2.0</td>\n",
       "      <td>2.0</td>\n",
       "      <td>2.0</td>\n",
       "      <td>1.0</td>\n",
       "      <td>1.0</td>\n",
       "      <td>1.0</td>\n",
       "      <td>2.0</td>\n",
       "    </tr>\n",
       "    <tr>\n",
       "      <th>0.0</th>\n",
       "      <td>2.0</td>\n",
       "      <td>3.0</td>\n",
       "      <td>2.0</td>\n",
       "      <td>2.0</td>\n",
       "      <td>2.0</td>\n",
       "      <td>2.0</td>\n",
       "      <td>3.0</td>\n",
       "      <td>1.0</td>\n",
       "      <td>1.0</td>\n",
       "    </tr>\n",
       "    <tr>\n",
       "      <th>1.0</th>\n",
       "      <td>7.0</td>\n",
       "      <td>6.0</td>\n",
       "      <td>6.0</td>\n",
       "      <td>3.0</td>\n",
       "      <td>2.0</td>\n",
       "      <td>10.0</td>\n",
       "      <td>7.0</td>\n",
       "      <td>1.0</td>\n",
       "      <td>1.0</td>\n",
       "    </tr>\n",
       "  </tbody>\n",
       "</table>\n",
       "<p>698 rows × 9 columns</p>\n",
       "</div>"
      ],
      "text/plain": [
       "     8.000000000000000000e+00  4.000000000000000000e+00  \\\n",
       "0.0                       5.0                       1.0   \n",
       "0.0                       2.0                       1.0   \n",
       "0.0                       2.0                       1.0   \n",
       "1.0                       9.0                       5.0   \n",
       "0.0                       3.0                       1.0   \n",
       "..                        ...                       ...   \n",
       "0.0                       1.0                       1.0   \n",
       "0.0                       5.0                       3.0   \n",
       "0.0                       5.0                       2.0   \n",
       "0.0                       2.0                       3.0   \n",
       "1.0                       7.0                       6.0   \n",
       "\n",
       "     4.000000000000000000e+00.1  1.000000000000000000e+00  \\\n",
       "0.0                         1.0                       3.0   \n",
       "0.0                         1.0                       1.0   \n",
       "0.0                         1.0                       1.0   \n",
       "1.0                         8.0                       1.0   \n",
       "0.0                         1.0                       1.0   \n",
       "..                          ...                       ...   \n",
       "0.0                         1.0                       1.0   \n",
       "0.0                         1.0                       2.0   \n",
       "0.0                         2.0                       2.0   \n",
       "0.0                         2.0                       2.0   \n",
       "1.0                         6.0                       3.0   \n",
       "\n",
       "     2.000000000000000000e+00  9.000000000000000000e+00  \\\n",
       "0.0                       2.0                       1.0   \n",
       "0.0                       3.0                       1.0   \n",
       "0.0                       2.0                       1.0   \n",
       "1.0                       2.0                       3.0   \n",
       "0.0                       2.0                       1.0   \n",
       "..                        ...                       ...   \n",
       "0.0                       4.0                       3.0   \n",
       "0.0                       2.0                       1.0   \n",
       "0.0                       2.0                       1.0   \n",
       "0.0                       2.0                       2.0   \n",
       "1.0                       2.0                      10.0   \n",
       "\n",
       "     3.000000000000000000e+00  3.000000000000000000e+00.1  \\\n",
       "0.0                       1.0                         1.0   \n",
       "0.0                       2.0                         1.0   \n",
       "0.0                       3.0                         1.0   \n",
       "1.0                       2.0                         1.0   \n",
       "0.0                       3.0                         1.0   \n",
       "..                        ...                         ...   \n",
       "0.0                       1.0                         1.0   \n",
       "0.0                       2.0                         1.0   \n",
       "0.0                       1.0                         1.0   \n",
       "0.0                       3.0                         1.0   \n",
       "1.0                       7.0                         1.0   \n",
       "\n",
       "     1.000000000000000000e+00.1  \n",
       "0.0                         1.0  \n",
       "0.0                         1.0  \n",
       "0.0                         1.0  \n",
       "1.0                         5.0  \n",
       "0.0                         1.0  \n",
       "..                          ...  \n",
       "0.0                         1.0  \n",
       "0.0                         1.0  \n",
       "0.0                         2.0  \n",
       "0.0                         1.0  \n",
       "1.0                         1.0  \n",
       "\n",
       "[698 rows x 9 columns]"
      ]
     },
     "execution_count": 2,
     "metadata": {},
     "output_type": "execute_result"
    }
   ],
   "source": [
    "breast_path = \"/Users/alexandre/Documents/Mestrado/2º Ano/SIB/si/datasets/breast-bin.csv\"\n",
    "breast = read_csv(breast_path, sep = \",\", features = True, label = True)\n",
    "breast.print_dataframe()"
   ]
  },
  {
   "cell_type": "code",
   "execution_count": 3,
   "id": "28d4383a-76ec-4306-aafd-a321a2334e81",
   "metadata": {},
   "outputs": [],
   "source": [
    "breast.X = StandardScaler().fit_transform(breast.X)"
   ]
  },
  {
   "cell_type": "code",
   "execution_count": 4,
   "id": "ed3e07e0-2c7f-42c2-8798-fa3593b4f685",
   "metadata": {},
   "outputs": [],
   "source": [
    "train, test = train_test_split(breast)"
   ]
  },
  {
   "cell_type": "code",
   "execution_count": 5,
   "id": "546fe297-3e27-474b-ac1d-96a7a7da0fa7",
   "metadata": {},
   "outputs": [],
   "source": [
    "lg_model = LogisticRegression(max_iter=2000)\n",
    "knn = KNNClassifier(k=3, distance=euclidean_distance)\n",
    "\n",
    "model = KNNClassifier(k=2, distance=euclidean_distance)"
   ]
  },
  {
   "cell_type": "code",
   "execution_count": 6,
   "id": "066ae6a8-9b48-47b2-8908-87bf883b15f1",
   "metadata": {},
   "outputs": [
    {
     "data": {
      "text/plain": [
       "array([1., 1., 0., 0., 0., 0., 1., 0., 0., 1., 0., 1., 1., 1., 0., 0., 0.,\n",
       "       0., 1., 0., 0., 1., 0., 1., 1., 0., 0., 0., 0., 0., 1., 0., 1., 0.,\n",
       "       0., 0., 0., 0., 1., 1., 0., 0., 1., 0., 0., 1., 1., 0., 0., 1., 1.,\n",
       "       0., 1., 0., 0., 1., 0., 0., 1., 0., 1., 1., 1., 0., 0., 1., 0., 0.,\n",
       "       1., 0., 0., 0., 0., 0., 1., 0., 0., 1., 0., 1., 0., 1., 0., 0., 0.,\n",
       "       1., 1., 0., 0., 0., 0., 1., 0., 1., 1., 0., 0., 0., 0., 1., 1., 0.,\n",
       "       1., 1., 0., 1., 0., 0., 0., 1., 1., 1., 0., 0., 0., 1., 0., 1., 1.,\n",
       "       0., 0., 0., 1., 0., 0., 0., 0., 0., 0., 0., 0., 1., 0., 0., 0., 1.,\n",
       "       0., 0., 1.])"
      ]
     },
     "execution_count": 6,
     "metadata": {},
     "output_type": "execute_result"
    }
   ],
   "source": [
    "voting = VotingClassifier([lg_model, knn])\n",
    "voting.fit(train)\n",
    "voting.predict(test)"
   ]
  },
  {
   "cell_type": "code",
   "execution_count": 7,
   "id": "a2492191-856f-4e16-9ce2-2c7c1b839993",
   "metadata": {},
   "outputs": [
    {
     "data": {
      "text/plain": [
       "0.9928057553956835"
      ]
     },
     "execution_count": 7,
     "metadata": {},
     "output_type": "execute_result"
    }
   ],
   "source": [
    "voting.score(test)"
   ]
  },
  {
   "cell_type": "code",
   "execution_count": 8,
   "id": "6cf568e9-b5a0-434a-a879-60fa197d8b31",
   "metadata": {},
   "outputs": [
    {
     "data": {
      "text/plain": [
       "array([1., 1., 0., 0., 0., 0., 1., 0., 0., 1., 0., 1., 1., 1., 0., 0., 0.,\n",
       "       0., 1., 0., 0., 1., 0., 1., 1., 1., 0., 0., 0., 0., 1., 0., 1., 0.,\n",
       "       0., 0., 0., 0., 1., 1., 0., 0., 1., 0., 0., 1., 1., 0., 0., 1., 1.,\n",
       "       0., 1., 0., 0., 1., 0., 0., 1., 0., 1., 1., 1., 0., 0., 1., 0., 0.,\n",
       "       1., 0., 0., 0., 0., 0., 1., 0., 0., 1., 0., 1., 0., 1., 0., 0., 0.,\n",
       "       1., 1., 0., 0., 0., 0., 1., 0., 1., 1., 0., 0., 0., 0., 1., 1., 0.,\n",
       "       1., 1., 0., 1., 0., 0., 0., 1., 1., 1., 0., 0., 0., 1., 0., 1., 1.,\n",
       "       0., 0., 0., 1., 0., 0., 0., 0., 0., 0., 0., 0., 1., 0., 0., 0., 1.,\n",
       "       0., 0., 1.])"
      ]
     },
     "execution_count": 8,
     "metadata": {},
     "output_type": "execute_result"
    }
   ],
   "source": [
    "# Previsões do modelo Logistic Regression\n",
    "voting.models[0].predict(test)"
   ]
  },
  {
   "cell_type": "code",
   "execution_count": 14,
   "id": "387f5335-8cce-4885-a6e3-1a2eedadc677",
   "metadata": {},
   "outputs": [
    {
     "data": {
      "text/plain": [
       "array([1., 1., 0., 0., 0., 0., 1., 0., 0., 1., 0., 1., 1., 1., 0., 0., 0.,\n",
       "       0., 1., 0., 0., 1., 0., 1., 1., 0., 0., 0., 0., 0., 1., 0., 1., 0.,\n",
       "       0., 0., 0., 0., 1., 1., 0., 0., 1., 0., 0., 1., 1., 0., 0., 1., 1.,\n",
       "       0., 1., 0., 0., 1., 0., 0., 1., 0., 1., 1., 1., 0., 0., 1., 0., 0.,\n",
       "       1., 0., 0., 0., 0., 0., 1., 0., 0., 1., 0., 1., 0., 1., 0., 0., 0.,\n",
       "       1., 1., 0., 0., 0., 0., 1., 0., 1., 1., 0., 0., 0., 0., 1., 1., 0.,\n",
       "       1., 1., 0., 1., 0., 0., 0., 1., 1., 1., 0., 0., 0., 1., 0., 1., 1.,\n",
       "       0., 0., 0., 1., 0., 0., 0., 0., 0., 0., 0., 0., 1., 0., 0., 0., 1.,\n",
       "       0., 0., 1.])"
      ]
     },
     "execution_count": 14,
     "metadata": {},
     "output_type": "execute_result"
    }
   ],
   "source": [
    "# Previsões do modelo KNNClassifier\n",
    "voting.models[1].predict(test)"
   ]
  },
  {
   "cell_type": "markdown",
   "id": "2763327d-322b-414e-8874-50c37ab81a6c",
   "metadata": {},
   "source": [
    "## StackingClassifier"
   ]
  },
  {
   "cell_type": "code",
   "execution_count": 10,
   "id": "d56ef9c1-48dd-442b-a317-e1b82f0e7069",
   "metadata": {},
   "outputs": [],
   "source": [
    "stacking = StackingClassifier([lg_model, knn], model)"
   ]
  },
  {
   "cell_type": "code",
   "execution_count": 11,
   "id": "cc43e491-350c-41b2-88cb-f886f77f14e5",
   "metadata": {},
   "outputs": [
    {
     "data": {
      "text/plain": [
       "<si.ensemble.stacking_classifier.StackingClassifier at 0x145a68cd0>"
      ]
     },
     "execution_count": 11,
     "metadata": {},
     "output_type": "execute_result"
    }
   ],
   "source": [
    "stacking.fit(train)"
   ]
  },
  {
   "cell_type": "code",
   "execution_count": 12,
   "id": "2b1d155f-228e-4396-a906-7227cc9f75b1",
   "metadata": {},
   "outputs": [
    {
     "data": {
      "text/plain": [
       "array([1., 1., 0., 0., 0., 0., 1., 0., 0., 1., 0., 1., 1., 1., 0., 0., 0.,\n",
       "       0., 1., 0., 0., 1., 0., 1., 1., 1., 0., 0., 0., 0., 1., 0., 1., 0.,\n",
       "       0., 0., 0., 0., 1., 1., 0., 0., 1., 0., 0., 1., 1., 0., 0., 0., 1.,\n",
       "       0., 1., 0., 0., 1., 0., 0., 1., 0., 1., 1., 1., 0., 0., 1., 0., 0.,\n",
       "       1., 0., 0., 0., 0., 0., 1., 0., 0., 1., 0., 1., 0., 1., 0., 0., 0.,\n",
       "       1., 1., 0., 0., 0., 0., 1., 0., 1., 1., 0., 0., 0., 0., 1., 1., 0.,\n",
       "       1., 1., 0., 1., 0., 0., 0., 1., 1., 1., 0., 0., 0., 1., 0., 1., 1.,\n",
       "       0., 0., 0., 0., 0., 0., 0., 0., 0., 0., 0., 0., 1., 0., 0., 0., 1.,\n",
       "       0., 0., 1.])"
      ]
     },
     "execution_count": 12,
     "metadata": {},
     "output_type": "execute_result"
    }
   ],
   "source": [
    "stacking.predict(test)"
   ]
  },
  {
   "cell_type": "code",
   "execution_count": 13,
   "id": "b2fcf37f-5c88-4230-bc98-53c54563fdec",
   "metadata": {},
   "outputs": [
    {
     "data": {
      "text/plain": [
       "0.9712230215827338"
      ]
     },
     "execution_count": 13,
     "metadata": {},
     "output_type": "execute_result"
    }
   ],
   "source": [
    "stacking.score(test)"
   ]
  }
 ],
 "metadata": {
  "kernelspec": {
   "display_name": "Python 3 (ipykernel)",
   "language": "python",
   "name": "python3"
  },
  "language_info": {
   "codemirror_mode": {
    "name": "ipython",
    "version": 3
   },
   "file_extension": ".py",
   "mimetype": "text/x-python",
   "name": "python",
   "nbconvert_exporter": "python",
   "pygments_lexer": "ipython3",
   "version": "3.10.6"
  }
 },
 "nbformat": 4,
 "nbformat_minor": 5
}
